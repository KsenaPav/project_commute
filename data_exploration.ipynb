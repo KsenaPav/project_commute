{
 "cells": [
  {
   "cell_type": "code",
   "execution_count": 1,
   "metadata": {},
   "outputs": [],
   "source": [
    "import numpy as np\n",
    "import pandas as pd"
   ]
  },
  {
   "cell_type": "code",
   "execution_count": 2,
   "metadata": {},
   "outputs": [
    {
     "name": "stdout",
     "output_type": "stream",
     "text": [
      "                                            geometry              town  \\\n",
      "0  POLYGON ((2.16374 48.69956, 2.16386 48.69956, ...  Bures-sur-Yvette   \n",
      "1  POLYGON ((2.16289 48.69966, 2.16299 48.69966, ...  Bures-sur-Yvette   \n",
      "2  POLYGON ((2.15771 48.69926, 2.1577 48.6992, 2....  Bures-sur-Yvette   \n",
      "3  POLYGON ((2.15788 48.69878, 2.15791 48.69879, ...  Bures-sur-Yvette   \n",
      "\n",
      "                                                info  \n",
      "0  De 309 à 454 € - Loyer toutes charges comprise...  \n",
      "1  De 309 à 454 € - Loyer toutes charges comprise...  \n",
      "2  De 369 à 477 € - Loyer toutes charges comprise...  \n",
      "3  De 369 à 477 € - Loyer toutes charges comprise...  \n"
     ]
    }
   ],
   "source": [
    "import pickle\n",
    "\n",
    "# Replace 'your_file.pkl' with the path to your .pkl file\n",
    "with open('cleaned_data/bures_student_housing.pkl', 'rb') as file:\n",
    "    data_bures = pickle.load(file)\n",
    "\n",
    "# Display the data (if it's a DataFrame or other readable object)\n",
    "print(data_bures)"
   ]
  },
  {
   "cell_type": "code",
   "execution_count": 3,
   "metadata": {},
   "outputs": [
    {
     "name": "stdout",
     "output_type": "stream",
     "text": [
      "JSON file saved successfully!\n"
     ]
    }
   ],
   "source": [
    "import pickle\n",
    "import json\n",
    "import geopandas as gpd\n",
    "\n",
    "# Load the pickle file\n",
    "with open('cleaned_data/bures_student_housing.pkl', 'rb') as file:\n",
    "    data = pickle.load(file)\n",
    "\n",
    "# Convert GeoDataFrame to JSON\n",
    "data_json = data.to_json()\n",
    "\n",
    "# Save to a JSON file\n",
    "with open('bures_student_housing.json', 'w') as json_file:\n",
    "    json.dump(data_json, json_file)\n",
    "\n",
    "print(\"JSON file saved successfully!\")\n"
   ]
  },
  {
   "cell_type": "code",
   "execution_count": null,
   "metadata": {},
   "outputs": [],
   "source": []
  }
 ],
 "metadata": {
  "kernelspec": {
   "display_name": "Python 3.11.7 64-bit",
   "language": "python",
   "name": "python3"
  },
  "language_info": {
   "codemirror_mode": {
    "name": "ipython",
    "version": 3
   },
   "file_extension": ".py",
   "mimetype": "text/x-python",
   "name": "python",
   "nbconvert_exporter": "python",
   "pygments_lexer": "ipython3",
   "version": "3.11.7"
  },
  "orig_nbformat": 4,
  "vscode": {
   "interpreter": {
    "hash": "72b2382ece9768098284d92bbc69d35954e75b60d1e25897d1389c232f4796f0"
   }
  }
 },
 "nbformat": 4,
 "nbformat_minor": 2
}
